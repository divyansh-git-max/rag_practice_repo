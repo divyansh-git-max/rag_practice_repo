{
 "cells": [
  {
   "cell_type": "code",
   "id": "initial_id",
   "metadata": {
    "collapsed": true,
    "ExecuteTime": {
     "end_time": "2025-09-08T11:36:20.983011Z",
     "start_time": "2025-09-08T11:36:20.914825Z"
    }
   },
   "source": [
    "import pandas as pd\n",
    "import os\n",
    "import time\n",
    "import langchain\n",
    "from typing import List,Dict,Any\n",
    "\n",
    "from langchain.schema import document\n",
    "from langchain_core.documents import Document\n",
    "from langchain.text_splitter import (RecursiveCharacterTextSplitter,CharacterTextSplitter,TokenTextSplitter)\n",
    "from sqlalchemy.testing.suite.test_reflection import metadata\n",
    "\n",
    "print(\"Setup completed\")\n"
   ],
   "outputs": [
    {
     "name": "stdout",
     "output_type": "stream",
     "text": [
      "Setup completed\n"
     ]
    }
   ],
   "execution_count": 8
  },
  {
   "metadata": {
    "ExecuteTime": {
     "end_time": "2025-09-08T11:43:09.776707Z",
     "start_time": "2025-09-08T11:43:09.771625Z"
    }
   },
   "cell_type": "code",
   "source": [
    "doc=Document(\n",
    "    page_content=\"THis is the main text content that will be embedded and searched!\",\n",
    "    metadata={\n",
    "        \"source\":\"Example.txt\",\n",
    "        \"author\":\"divyansh\",\n",
    "        \"page\":1,\n",
    "        \"date_created\":\"2025-01-01\",\n",
    "        \"custom_field\":\"any_val\"\n",
    "    }\n",
    ")\n",
    "print(\"Document Structure\")\n",
    "print(f\"metadata:{doc.metadata}\")\n",
    "print(f\"page content:{doc.page_content}\")"
   ],
   "id": "1d245222b26ea243",
   "outputs": [
    {
     "name": "stdout",
     "output_type": "stream",
     "text": [
      "Document Structure\n",
      "metadata:{'source': 'Example.txt', 'author': 'divyansh', 'page': 1, 'date_created': '2025-01-01', 'custom_field': 'any_val'}\n",
      "page content:THis is the main text content that will be embedded and searched!\n"
     ]
    }
   ],
   "execution_count": 13
  },
  {
   "metadata": {
    "ExecuteTime": {
     "end_time": "2025-09-08T11:48:30.565404Z",
     "start_time": "2025-09-08T11:48:30.560402Z"
    }
   },
   "cell_type": "code",
   "source": "os.makedirs(\"data/text_files\",exist_ok=True)",
   "id": "9aba2206c7add076",
   "outputs": [],
   "execution_count": 16
  },
  {
   "metadata": {
    "ExecuteTime": {
     "end_time": "2025-09-08T12:09:52.671312Z",
     "start_time": "2025-09-08T12:09:52.664794Z"
    }
   },
   "cell_type": "code",
   "source": [
    "sample_texts={\n",
    "    \"data/text_files/python_intro.txt\":\"\"\"\n",
    "        python programming language is used for building ai applications\n",
    "    \"\"\"\n",
    "}\n",
    "\n",
    "for filepath,contents in sample_texts.items():\n",
    "    with open(filepath,\"w\",encoding='utf-8') as f:\n",
    "        f.write(contents)\n",
    "\n",
    "print(\"sample texts:\")\n",
    "print(sample_texts)"
   ],
   "id": "f03bee863e941fd0",
   "outputs": [
    {
     "name": "stdout",
     "output_type": "stream",
     "text": [
      "sample texts:\n",
      "{'data/text_files/python_intro.txt': '\\n        python programming language is used for building ai applications\\n    '}\n"
     ]
    }
   ],
   "execution_count": 18
  },
  {
   "metadata": {},
   "cell_type": "markdown",
   "source": "### Text-Loader",
   "id": "7c911a1acc836c8c"
  },
  {
   "metadata": {
    "ExecuteTime": {
     "end_time": "2025-09-08T12:12:40.119052Z",
     "start_time": "2025-09-08T12:12:40.089370Z"
    }
   },
   "cell_type": "code",
   "source": [
    "from langchain_community.document_loaders import TextLoader\n",
    "# loading a single text file\n",
    "loader=TextLoader(file_path='data/text_files/python_intro.txt',encoding='utf-8')"
   ],
   "id": "98c317a6635eff01",
   "outputs": [],
   "execution_count": 19
  },
  {
   "metadata": {
    "ExecuteTime": {
     "end_time": "2025-09-08T12:13:13.121573Z",
     "start_time": "2025-09-08T12:13:13.117021Z"
    }
   },
   "cell_type": "code",
   "source": "documents = loader.load()",
   "id": "5bc12cad2a43db74",
   "outputs": [],
   "execution_count": 23
  },
  {
   "metadata": {
    "ExecuteTime": {
     "end_time": "2025-09-08T12:16:25.583091Z",
     "start_time": "2025-09-08T12:16:25.578527Z"
    }
   },
   "cell_type": "code",
   "source": [
    "print(documents[0].page_content[1:])\n",
    "print(documents[0].metadata)\n",
    "print(len(documents))"
   ],
   "id": "3b453c12fb4677ec",
   "outputs": [
    {
     "name": "stdout",
     "output_type": "stream",
     "text": [
      "        python programming language is used for building ai applications\n",
      "    \n",
      "{'source': 'data/text_files/python_intro.txt'}\n",
      "1\n"
     ]
    }
   ],
   "execution_count": 38
  },
  {
   "metadata": {
    "ExecuteTime": {
     "end_time": "2025-09-08T12:23:38.262496Z",
     "start_time": "2025-09-08T12:23:38.189315Z"
    }
   },
   "cell_type": "code",
   "source": [
    "from langchain_community.document_loaders import DirectoryLoader\n",
    "\n",
    "dir_loader=DirectoryLoader(\n",
    "    \"data/text_files\",\n",
    "    glob=\"**/*.txt\", # regex to match files\n",
    "    loader_cls=TextLoader,\n",
    "    loader_kwargs={\"encoding\":\"utf-8\"},\n",
    "    show_progress=True\n",
    ")\n",
    "\n",
    "documents=dir_loader.load()"
   ],
   "id": "9a03ebb28f00139b",
   "outputs": [
    {
     "name": "stderr",
     "output_type": "stream",
     "text": [
      "100%|██████████| 1/1 [00:00<00:00, 1000.79it/s]\n"
     ]
    }
   ],
   "execution_count": 39
  },
  {
   "metadata": {
    "ExecuteTime": {
     "end_time": "2025-09-08T12:25:31.476358Z",
     "start_time": "2025-09-08T12:25:31.471314Z"
    }
   },
   "cell_type": "code",
   "source": "documents[0].page_content.strip()",
   "id": "5c62db7866487e75",
   "outputs": [
    {
     "data": {
      "text/plain": [
       "'python programming language is used for building ai applications'"
      ]
     },
     "execution_count": 46,
     "metadata": {},
     "output_type": "execute_result"
    }
   ],
   "execution_count": 46
  },
  {
   "metadata": {},
   "cell_type": "code",
   "outputs": [],
   "execution_count": null,
   "source": "",
   "id": "681f0673de79a6db"
  }
 ],
 "metadata": {
  "kernelspec": {
   "display_name": "Python 3",
   "language": "python",
   "name": "python3"
  },
  "language_info": {
   "codemirror_mode": {
    "name": "ipython",
    "version": 2
   },
   "file_extension": ".py",
   "mimetype": "text/x-python",
   "name": "python",
   "nbconvert_exporter": "python",
   "pygments_lexer": "ipython2",
   "version": "2.7.6"
  }
 },
 "nbformat": 4,
 "nbformat_minor": 5
}
