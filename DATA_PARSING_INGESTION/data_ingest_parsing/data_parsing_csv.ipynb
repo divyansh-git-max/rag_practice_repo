{
 "cells": [
  {
   "cell_type": "code",
   "id": "initial_id",
   "metadata": {
    "collapsed": true,
    "ExecuteTime": {
     "end_time": "2025-09-09T11:06:07.707899Z",
     "start_time": "2025-09-09T11:06:07.703592Z"
    }
   },
   "source": [
    "import os\n",
    "import pandas as pd\n",
    "from typing import List,Dict,Any\n",
    "from langchain_core.documents import Document"
   ],
   "outputs": [],
   "execution_count": 42
  },
  {
   "metadata": {
    "ExecuteTime": {
     "end_time": "2025-09-09T11:06:08.693066Z",
     "start_time": "2025-09-09T11:06:08.689067Z"
    }
   },
   "cell_type": "code",
   "source": "from langchain_community.document_loaders import CSVLoader,UnstructuredCSVLoader",
   "id": "f76f2c0591711d87",
   "outputs": [],
   "execution_count": 43
  },
  {
   "metadata": {
    "ExecuteTime": {
     "end_time": "2025-09-09T11:06:09.413149Z",
     "start_time": "2025-09-09T11:06:09.407655Z"
    }
   },
   "cell_type": "code",
   "source": [
    "csv_loader=CSVLoader(\n",
    "    file_path='data/csv/products.csv',\n",
    "    encoding='utf-8',\n",
    "    csv_args={\n",
    "        'delimiter': ',',\n",
    "        'quotechar': '\"',\n",
    "    }\n",
    ")\n",
    "csv_docs=csv_loader.load()\n",
    "print(f\"Loaded {len(csv_docs)} documents\")\n",
    "print(\"\\nFirst document\")\n",
    "print(f\"Content : {csv_docs[0].page_content}\")\n",
    "print(f\"Metadata : {csv_docs[0].metadata}\")"
   ],
   "id": "806f8dde78aaf680",
   "outputs": [
    {
     "name": "stdout",
     "output_type": "stream",
     "text": [
      "Loaded 5 documents\n",
      "\n",
      "First document\n",
      "Content : Product: Laptop\n",
      "Category: Electronics\n",
      "Price: 999.99\n",
      "Stock: 50\n",
      "Description: High-performance laptop with 16GB RAM and 512GB SSD\n",
      "Metadata : {'source': 'data/csv/products.csv', 'row': 0}\n"
     ]
    }
   ],
   "execution_count": 44
  },
  {
   "metadata": {
    "ExecuteTime": {
     "end_time": "2025-09-09T11:06:11.314467Z",
     "start_time": "2025-09-09T11:06:11.308277Z"
    }
   },
   "cell_type": "code",
   "source": [
    "def process_csv_intelligent(filepath:str) -> List[Document]:\n",
    "    \"\"\"Process Csv with intelligent document creation\"\"\"\n",
    "    df=pd.read_csv(filepath)\n",
    "    documents=[]\n",
    "    for idx,row in df.iterrows():\n",
    "        content = f\"\"\" Product information\n",
    "                Name: {row.name},\n",
    "                Category: {row.Category},\n",
    "                Description: {row.Description},\n",
    "                Price: {row.Price},\n",
    "            \"\"\"\n",
    "        doc=Document(\n",
    "            page_content=content,\n",
    "            metadata={\n",
    "                'source':filepath,\n",
    "                'language':'en',\n",
    "                'row_index':idx,\n",
    "                'product_name':row.name,\n",
    "                'product_category':row.Category,\n",
    "                'product_description':row.Description,\n",
    "                'product_price':row.Price,\n",
    "            }\n",
    "        )\n",
    "        documents.append(doc)\n",
    "    return documents"
   ],
   "id": "a657acb191fd2c29",
   "outputs": [],
   "execution_count": 45
  },
  {
   "metadata": {
    "ExecuteTime": {
     "end_time": "2025-09-09T11:06:12.948181Z",
     "start_time": "2025-09-09T11:06:12.941202Z"
    }
   },
   "cell_type": "code",
   "source": "info=process_csv_intelligent('data/csv/products.csv')",
   "id": "ba1f1c0c0c5be30a",
   "outputs": [],
   "execution_count": 46
  },
  {
   "metadata": {
    "ExecuteTime": {
     "end_time": "2025-09-09T11:06:13.848950Z",
     "start_time": "2025-09-09T11:06:13.844503Z"
    }
   },
   "cell_type": "code",
   "source": [
    "for i in range(len(info)):\n",
    "    print(info[i])"
   ],
   "id": "608b495b002fcfac",
   "outputs": [
    {
     "name": "stdout",
     "output_type": "stream",
     "text": [
      "page_content=' Product information\n",
      "                Name: 0,\n",
      "                Category: Electronics,\n",
      "                Description: High-performance laptop with 16GB RAM and 512GB SSD,\n",
      "                Price: 999.99,\n",
      "            ' metadata={'source': 'data/csv/products.csv', 'language': 'en', 'row_index': 0, 'product_name': 0, 'product_category': 'Electronics', 'product_description': 'High-performance laptop with 16GB RAM and 512GB SSD', 'product_price': 999.99}\n",
      "page_content=' Product information\n",
      "                Name: 1,\n",
      "                Category: Accessories,\n",
      "                Description: Wireless optical mouse with ergonomic design,\n",
      "                Price: 29.99,\n",
      "            ' metadata={'source': 'data/csv/products.csv', 'language': 'en', 'row_index': 1, 'product_name': 1, 'product_category': 'Accessories', 'product_description': 'Wireless optical mouse with ergonomic design', 'product_price': 29.99}\n",
      "page_content=' Product information\n",
      "                Name: 2,\n",
      "                Category: Accessories,\n",
      "                Description: Mechanical keyboard with RGB backlighting,\n",
      "                Price: 79.99,\n",
      "            ' metadata={'source': 'data/csv/products.csv', 'language': 'en', 'row_index': 2, 'product_name': 2, 'product_category': 'Accessories', 'product_description': 'Mechanical keyboard with RGB backlighting', 'product_price': 79.99}\n",
      "page_content=' Product information\n",
      "                Name: 3,\n",
      "                Category: Electronics,\n",
      "                Description: 27-inch 4K monitor with HDR support,\n",
      "                Price: 299.99,\n",
      "            ' metadata={'source': 'data/csv/products.csv', 'language': 'en', 'row_index': 3, 'product_name': 3, 'product_category': 'Electronics', 'product_description': '27-inch 4K monitor with HDR support', 'product_price': 299.99}\n",
      "page_content=' Product information\n",
      "                Name: 4,\n",
      "                Category: Electronics,\n",
      "                Description: 1080p webcam with noise cancellation,\n",
      "                Price: 89.99,\n",
      "            ' metadata={'source': 'data/csv/products.csv', 'language': 'en', 'row_index': 4, 'product_name': 4, 'product_category': 'Electronics', 'product_description': '1080p webcam with noise cancellation', 'product_price': 89.99}\n"
     ]
    }
   ],
   "execution_count": 47
  },
  {
   "metadata": {
    "ExecuteTime": {
     "end_time": "2025-09-09T11:14:09.347191Z",
     "start_time": "2025-09-09T11:14:09.342341Z"
    }
   },
   "cell_type": "code",
   "source": [
    "def process_excel_with_pandas(filepath:str) -> List[Document]:\n",
    "    documents=[]\n",
    "    excel_file=pd.ExcelFile(filepath, engine='openpyxl')\n",
    "    for sheet_name in excel_file.sheet_names:\n",
    "        df=pd.read_excel(excel_file, sheet_name=sheet_name)\n",
    "        sheet_content=f\"sheet_name={sheet_name}\"\n",
    "        sheet_content+=f\"Columns: {' '.join(df.columns)}\"\n",
    "        sheet_content+=f\"Rows: {len(df)}\"\n",
    "        sheet_content+=f\"Content: {df.to_string(index=False)}\"\n",
    "\n",
    "        doc =Document(\n",
    "            page_content=sheet_content,\n",
    "            metadata={\n",
    "                'source':filepath,\n",
    "            }\n",
    "        )\n",
    "\n",
    "        documents.append(doc)\n",
    "    return documents\n"
   ],
   "id": "abda69fd4b3dcdf3",
   "outputs": [],
   "execution_count": 62
  },
  {
   "metadata": {
    "ExecuteTime": {
     "end_time": "2025-09-09T11:16:53.232011Z",
     "start_time": "2025-09-09T11:16:53.210484Z"
    }
   },
   "cell_type": "code",
   "source": "print(process_excel_with_pandas('data/csv/inventory.xlsx'))",
   "id": "7086d3cacf21b2",
   "outputs": [
    {
     "name": "stdout",
     "output_type": "stream",
     "text": [
      "[Document(metadata={'source': 'data/csv/inventory.xlsx'}, page_content='sheet_name=ProductsColumns: Product Category Price Stock DescriptionRows: 5Content:  Product    Category  Price  Stock                                         Description\\n  Laptop Electronics 999.99     50 High-performance laptop with 16GB RAM and 512GB SSD\\n   Mouse Accessories  29.99    200        Wireless optical mouse with ergonomic design\\nKeyboard Accessories  79.99    150           Mechanical keyboard with RGB backlighting\\n Monitor Electronics 299.99     75                 27-inch 4K monitor with HDR support\\n  Webcam Electronics  89.99    100                1080p webcam with noise cancellation'), Document(metadata={'source': 'data/csv/inventory.xlsx'}, page_content='sheet_name=SummaryColumns: Category Total_Items Total_ValueRows: 2Content:    Category  Total_Items  Total_Value\\nElectronics            3      1389.97\\nAccessories            2       109.98')]\n"
     ]
    }
   ],
   "execution_count": 66
  },
  {
   "metadata": {
    "ExecuteTime": {
     "end_time": "2025-09-09T12:06:49.220455Z",
     "start_time": "2025-09-09T12:06:49.215389Z"
    }
   },
   "cell_type": "code",
   "source": [
    "def unstructured_loading(file_path:str) -> List[Document]:\n",
    "    documents=[]\n",
    "    unstructured_csv=UnstructuredCSVLoader(\n",
    "        file_path=file_path,\n",
    "        mode='elements'\n",
    "    )\n",
    "    return unstructured_csv\n"
   ],
   "id": "3d293dc904ea2846",
   "outputs": [],
   "execution_count": 68
  },
  {
   "metadata": {
    "ExecuteTime": {
     "end_time": "2025-09-09T12:10:07.191036Z",
     "start_time": "2025-09-09T12:10:01.886820Z"
    }
   },
   "cell_type": "code",
   "source": "",
   "id": "fef94c898cd625f6",
   "outputs": [
    {
     "ename": "UnicodeDecodeError",
     "evalue": "'utf-8' codec can't decode byte 0xde in position 16: invalid continuation byte",
     "output_type": "error",
     "traceback": [
      "\u001B[31m---------------------------------------------------------------------------\u001B[39m",
      "\u001B[31mUnicodeDecodeError\u001B[39m                        Traceback (most recent call last)",
      "\u001B[36mCell\u001B[39m\u001B[36m \u001B[39m\u001B[32mIn[71]\u001B[39m\u001B[32m, line 1\u001B[39m\n\u001B[32m----> \u001B[39m\u001B[32m1\u001B[39m \u001B[43munstructured_loading\u001B[49m\u001B[43m(\u001B[49m\u001B[33;43m'\u001B[39;49m\u001B[33;43mdata/csv/inventory.xlsx\u001B[39;49m\u001B[33;43m'\u001B[39;49m\u001B[43m)\u001B[49m\u001B[43m.\u001B[49m\u001B[43mload\u001B[49m\u001B[43m(\u001B[49m\u001B[43m)\u001B[49m\n",
      "\u001B[36mFile \u001B[39m\u001B[32mG:\\RAG_PIPELINE\\DATA_PARSING_INGESTION\\.venv\\Lib\\site-packages\\langchain_core\\document_loaders\\base.py:32\u001B[39m, in \u001B[36mBaseLoader.load\u001B[39m\u001B[34m(self)\u001B[39m\n\u001B[32m     30\u001B[39m \u001B[38;5;28;01mdef\u001B[39;00m\u001B[38;5;250m \u001B[39m\u001B[34mload\u001B[39m(\u001B[38;5;28mself\u001B[39m) -> \u001B[38;5;28mlist\u001B[39m[Document]:\n\u001B[32m     31\u001B[39m \u001B[38;5;250m    \u001B[39m\u001B[33;03m\"\"\"Load data into Document objects.\"\"\"\u001B[39;00m\n\u001B[32m---> \u001B[39m\u001B[32m32\u001B[39m     \u001B[38;5;28;01mreturn\u001B[39;00m \u001B[38;5;28;43mlist\u001B[39;49m\u001B[43m(\u001B[49m\u001B[38;5;28;43mself\u001B[39;49m\u001B[43m.\u001B[49m\u001B[43mlazy_load\u001B[49m\u001B[43m(\u001B[49m\u001B[43m)\u001B[49m\u001B[43m)\u001B[49m\n",
      "\u001B[36mFile \u001B[39m\u001B[32mG:\\RAG_PIPELINE\\DATA_PARSING_INGESTION\\.venv\\Lib\\site-packages\\langchain_community\\document_loaders\\unstructured.py:107\u001B[39m, in \u001B[36mUnstructuredBaseLoader.lazy_load\u001B[39m\u001B[34m(self)\u001B[39m\n\u001B[32m    105\u001B[39m \u001B[38;5;28;01mdef\u001B[39;00m\u001B[38;5;250m \u001B[39m\u001B[34mlazy_load\u001B[39m(\u001B[38;5;28mself\u001B[39m) -> Iterator[Document]:\n\u001B[32m    106\u001B[39m \u001B[38;5;250m    \u001B[39m\u001B[33;03m\"\"\"Load file.\"\"\"\u001B[39;00m\n\u001B[32m--> \u001B[39m\u001B[32m107\u001B[39m     elements = \u001B[38;5;28;43mself\u001B[39;49m\u001B[43m.\u001B[49m\u001B[43m_get_elements\u001B[49m\u001B[43m(\u001B[49m\u001B[43m)\u001B[49m\n\u001B[32m    108\u001B[39m     \u001B[38;5;28mself\u001B[39m._post_process_elements(elements)\n\u001B[32m    109\u001B[39m     \u001B[38;5;28;01mif\u001B[39;00m \u001B[38;5;28mself\u001B[39m.mode == \u001B[33m\"\u001B[39m\u001B[33melements\u001B[39m\u001B[33m\"\u001B[39m:\n",
      "\u001B[36mFile \u001B[39m\u001B[32mG:\\RAG_PIPELINE\\DATA_PARSING_INGESTION\\.venv\\Lib\\site-packages\\langchain_community\\document_loaders\\csv_loader.py:226\u001B[39m, in \u001B[36mUnstructuredCSVLoader._get_elements\u001B[39m\u001B[34m(self)\u001B[39m\n\u001B[32m    223\u001B[39m \u001B[38;5;28;01mdef\u001B[39;00m\u001B[38;5;250m \u001B[39m\u001B[34m_get_elements\u001B[39m(\u001B[38;5;28mself\u001B[39m) -> List:\n\u001B[32m    224\u001B[39m     \u001B[38;5;28;01mfrom\u001B[39;00m\u001B[38;5;250m \u001B[39m\u001B[34;01munstructured\u001B[39;00m\u001B[34;01m.\u001B[39;00m\u001B[34;01mpartition\u001B[39;00m\u001B[34;01m.\u001B[39;00m\u001B[34;01mcsv\u001B[39;00m\u001B[38;5;250m \u001B[39m\u001B[38;5;28;01mimport\u001B[39;00m partition_csv\n\u001B[32m--> \u001B[39m\u001B[32m226\u001B[39m     \u001B[38;5;28;01mreturn\u001B[39;00m \u001B[43mpartition_csv\u001B[49m\u001B[43m(\u001B[49m\u001B[43mfilename\u001B[49m\u001B[43m=\u001B[49m\u001B[38;5;28;43mself\u001B[39;49m\u001B[43m.\u001B[49m\u001B[43mfile_path\u001B[49m\u001B[43m,\u001B[49m\u001B[43m \u001B[49m\u001B[43m*\u001B[49m\u001B[43m*\u001B[49m\u001B[38;5;28;43mself\u001B[39;49m\u001B[43m.\u001B[49m\u001B[43munstructured_kwargs\u001B[49m\u001B[43m)\u001B[49m\n",
      "\u001B[36mFile \u001B[39m\u001B[32mG:\\RAG_PIPELINE\\DATA_PARSING_INGESTION\\.venv\\Lib\\site-packages\\unstructured\\partition\\common\\metadata.py:162\u001B[39m, in \u001B[36mapply_metadata.<locals>.decorator.<locals>.wrapper\u001B[39m\u001B[34m(*args, **kwargs)\u001B[39m\n\u001B[32m    160\u001B[39m \u001B[38;5;129m@functools\u001B[39m.wraps(func)\n\u001B[32m    161\u001B[39m \u001B[38;5;28;01mdef\u001B[39;00m\u001B[38;5;250m \u001B[39m\u001B[34mwrapper\u001B[39m(*args: _P.args, **kwargs: _P.kwargs) -> \u001B[38;5;28mlist\u001B[39m[Element]:\n\u001B[32m--> \u001B[39m\u001B[32m162\u001B[39m     elements = \u001B[43mfunc\u001B[49m\u001B[43m(\u001B[49m\u001B[43m*\u001B[49m\u001B[43margs\u001B[49m\u001B[43m,\u001B[49m\u001B[43m \u001B[49m\u001B[43m*\u001B[49m\u001B[43m*\u001B[49m\u001B[43mkwargs\u001B[49m\u001B[43m)\u001B[49m\n\u001B[32m    163\u001B[39m     call_args = get_call_args_applying_defaults(func, *args, **kwargs)\n\u001B[32m    165\u001B[39m     \u001B[38;5;66;03m# ------------------------------------------------------------------------------------\u001B[39;00m\n\u001B[32m    166\u001B[39m     \u001B[38;5;66;03m# unique-ify elements\u001B[39;00m\n\u001B[32m    167\u001B[39m     \u001B[38;5;66;03m# ------------------------------------------------------------------------------------\u001B[39;00m\n\u001B[32m   (...)\u001B[39m\u001B[32m    172\u001B[39m     \u001B[38;5;66;03m# instance).\u001B[39;00m\n\u001B[32m    173\u001B[39m     \u001B[38;5;66;03m# ------------------------------------------------------------------------------------\u001B[39;00m\n",
      "\u001B[36mFile \u001B[39m\u001B[32mG:\\RAG_PIPELINE\\DATA_PARSING_INGESTION\\.venv\\Lib\\site-packages\\unstructured\\chunking\\dispatch.py:74\u001B[39m, in \u001B[36madd_chunking_strategy.<locals>.wrapper\u001B[39m\u001B[34m(*args, **kwargs)\u001B[39m\n\u001B[32m     71\u001B[39m \u001B[38;5;250m\u001B[39m\u001B[33;03m\"\"\"The decorated function is replaced with this one.\"\"\"\u001B[39;00m\n\u001B[32m     73\u001B[39m \u001B[38;5;66;03m# -- call the partitioning function to get the elements --\u001B[39;00m\n\u001B[32m---> \u001B[39m\u001B[32m74\u001B[39m elements = \u001B[43mfunc\u001B[49m\u001B[43m(\u001B[49m\u001B[43m*\u001B[49m\u001B[43margs\u001B[49m\u001B[43m,\u001B[49m\u001B[43m \u001B[49m\u001B[43m*\u001B[49m\u001B[43m*\u001B[49m\u001B[43mkwargs\u001B[49m\u001B[43m)\u001B[49m\n\u001B[32m     76\u001B[39m \u001B[38;5;66;03m# -- look for a chunking-strategy argument --\u001B[39;00m\n\u001B[32m     77\u001B[39m call_args = get_call_args_applying_defaults(func, *args, **kwargs)\n",
      "\u001B[36mFile \u001B[39m\u001B[32mG:\\RAG_PIPELINE\\DATA_PARSING_INGESTION\\.venv\\Lib\\site-packages\\unstructured\\partition\\csv.py:60\u001B[39m, in \u001B[36mpartition_csv\u001B[39m\u001B[34m(filename, file, encoding, include_header, infer_table_structure, **kwargs)\u001B[39m\n\u001B[32m     58\u001B[39m csv.field_size_limit(CSV_FIELD_LIMIT)\n\u001B[32m     59\u001B[39m \u001B[38;5;28;01mwith\u001B[39;00m ctx.open() \u001B[38;5;28;01mas\u001B[39;00m file:\n\u001B[32m---> \u001B[39m\u001B[32m60\u001B[39m     dataframe = pd.read_csv(file, header=ctx.header, sep=\u001B[43mctx\u001B[49m\u001B[43m.\u001B[49m\u001B[43mdelimiter\u001B[49m, encoding=ctx.encoding)\n\u001B[32m     62\u001B[39m html_table = HtmlTable.from_html_text(\n\u001B[32m     63\u001B[39m     dataframe.to_html(index=\u001B[38;5;28;01mFalse\u001B[39;00m, header=include_header, na_rep=\u001B[33m\"\u001B[39m\u001B[33m\"\u001B[39m)\n\u001B[32m     64\u001B[39m )\n\u001B[32m     66\u001B[39m metadata = ElementMetadata(\n\u001B[32m     67\u001B[39m     filename=filename,\n\u001B[32m     68\u001B[39m     last_modified=ctx.last_modified,\n\u001B[32m     69\u001B[39m     text_as_html=html_table.html \u001B[38;5;28;01mif\u001B[39;00m infer_table_structure \u001B[38;5;28;01melse\u001B[39;00m \u001B[38;5;28;01mNone\u001B[39;00m,\n\u001B[32m     70\u001B[39m )\n",
      "\u001B[36mFile \u001B[39m\u001B[32mG:\\RAG_PIPELINE\\DATA_PARSING_INGESTION\\.venv\\Lib\\site-packages\\unstructured\\utils.py:154\u001B[39m, in \u001B[36mlazyproperty.__get__\u001B[39m\u001B[34m(self, obj, type)\u001B[39m\n\u001B[32m    149\u001B[39m value = obj.\u001B[34m__dict__\u001B[39m.get(\u001B[38;5;28mself\u001B[39m._name)\n\u001B[32m    150\u001B[39m \u001B[38;5;28;01mif\u001B[39;00m value \u001B[38;5;129;01mis\u001B[39;00m \u001B[38;5;28;01mNone\u001B[39;00m:\n\u001B[32m    151\u001B[39m     \u001B[38;5;66;03m# --- on first access, the __dict__ item will be absent. Evaluate fget()\u001B[39;00m\n\u001B[32m    152\u001B[39m     \u001B[38;5;66;03m# --- and store that value in the (otherwise unused) host-object\u001B[39;00m\n\u001B[32m    153\u001B[39m     \u001B[38;5;66;03m# --- __dict__ value of same name ('fget' nominally)\u001B[39;00m\n\u001B[32m--> \u001B[39m\u001B[32m154\u001B[39m     value = \u001B[38;5;28;43mself\u001B[39;49m\u001B[43m.\u001B[49m\u001B[43m_fget\u001B[49m\u001B[43m(\u001B[49m\u001B[43mobj\u001B[49m\u001B[43m)\u001B[49m\n\u001B[32m    155\u001B[39m     obj.\u001B[34m__dict__\u001B[39m[\u001B[38;5;28mself\u001B[39m._name] = value\n\u001B[32m    156\u001B[39m \u001B[38;5;28;01mreturn\u001B[39;00m cast(_T, value)\n",
      "\u001B[36mFile \u001B[39m\u001B[32mG:\\RAG_PIPELINE\\DATA_PARSING_INGESTION\\.venv\\Lib\\site-packages\\unstructured\\partition\\csv.py:125\u001B[39m, in \u001B[36m_CsvPartitioningContext.delimiter\u001B[39m\u001B[34m(self)\u001B[39m\n\u001B[32m    121\u001B[39m num_bytes = \u001B[32m65536\u001B[39m\n\u001B[32m    123\u001B[39m \u001B[38;5;28;01mwith\u001B[39;00m \u001B[38;5;28mself\u001B[39m.open() \u001B[38;5;28;01mas\u001B[39;00m file:\n\u001B[32m    124\u001B[39m     \u001B[38;5;66;03m# -- read whole lines, sniffer can be confused by a trailing partial line --\u001B[39;00m\n\u001B[32m--> \u001B[39m\u001B[32m125\u001B[39m     data = \u001B[33;43m\"\u001B[39;49m\u001B[38;5;130;43;01m\\n\u001B[39;49;00m\u001B[33;43m\"\u001B[39;49m\u001B[43m.\u001B[49m\u001B[43mjoin\u001B[49m\u001B[43m(\u001B[49m\n\u001B[32m    126\u001B[39m \u001B[43m        \u001B[49m\u001B[43mln\u001B[49m\u001B[43m.\u001B[49m\u001B[43mdecode\u001B[49m\u001B[43m(\u001B[49m\u001B[38;5;28;43mself\u001B[39;49m\u001B[43m.\u001B[49m\u001B[43m_encoding\u001B[49m\u001B[43m \u001B[49m\u001B[38;5;129;43;01mor\u001B[39;49;00m\u001B[43m \u001B[49m\u001B[33;43m\"\u001B[39;49m\u001B[33;43mutf-8\u001B[39;49m\u001B[33;43m\"\u001B[39;49m\u001B[43m)\u001B[49m\u001B[43m \u001B[49m\u001B[38;5;28;43;01mfor\u001B[39;49;00m\u001B[43m \u001B[49m\u001B[43mln\u001B[49m\u001B[43m \u001B[49m\u001B[38;5;129;43;01min\u001B[39;49;00m\u001B[43m \u001B[49m\u001B[43mfile\u001B[49m\u001B[43m.\u001B[49m\u001B[43mreadlines\u001B[49m\u001B[43m(\u001B[49m\u001B[43mnum_bytes\u001B[49m\u001B[43m)\u001B[49m\n\u001B[32m    127\u001B[39m \u001B[43m    \u001B[49m\u001B[43m)\u001B[49m\n\u001B[32m    129\u001B[39m \u001B[38;5;28;01mtry\u001B[39;00m:\n\u001B[32m    130\u001B[39m     \u001B[38;5;28;01mreturn\u001B[39;00m sniffer.sniff(data, delimiters=\u001B[33m\"\u001B[39m\u001B[33m,;|\u001B[39m\u001B[33m\"\u001B[39m).delimiter\n",
      "\u001B[36mFile \u001B[39m\u001B[32mG:\\RAG_PIPELINE\\DATA_PARSING_INGESTION\\.venv\\Lib\\site-packages\\unstructured\\partition\\csv.py:126\u001B[39m, in \u001B[36m<genexpr>\u001B[39m\u001B[34m(.0)\u001B[39m\n\u001B[32m    121\u001B[39m num_bytes = \u001B[32m65536\u001B[39m\n\u001B[32m    123\u001B[39m \u001B[38;5;28;01mwith\u001B[39;00m \u001B[38;5;28mself\u001B[39m.open() \u001B[38;5;28;01mas\u001B[39;00m file:\n\u001B[32m    124\u001B[39m     \u001B[38;5;66;03m# -- read whole lines, sniffer can be confused by a trailing partial line --\u001B[39;00m\n\u001B[32m    125\u001B[39m     data = \u001B[33m\"\u001B[39m\u001B[38;5;130;01m\\n\u001B[39;00m\u001B[33m\"\u001B[39m.join(\n\u001B[32m--> \u001B[39m\u001B[32m126\u001B[39m         \u001B[43mln\u001B[49m\u001B[43m.\u001B[49m\u001B[43mdecode\u001B[49m\u001B[43m(\u001B[49m\u001B[38;5;28;43mself\u001B[39;49m\u001B[43m.\u001B[49m\u001B[43m_encoding\u001B[49m\u001B[43m \u001B[49m\u001B[38;5;129;43;01mor\u001B[39;49;00m\u001B[43m \u001B[49m\u001B[33;43m\"\u001B[39;49m\u001B[33;43mutf-8\u001B[39;49m\u001B[33;43m\"\u001B[39;49m\u001B[43m)\u001B[49m \u001B[38;5;28;01mfor\u001B[39;00m ln \u001B[38;5;129;01min\u001B[39;00m file.readlines(num_bytes)\n\u001B[32m    127\u001B[39m     )\n\u001B[32m    129\u001B[39m \u001B[38;5;28;01mtry\u001B[39;00m:\n\u001B[32m    130\u001B[39m     \u001B[38;5;28;01mreturn\u001B[39;00m sniffer.sniff(data, delimiters=\u001B[33m\"\u001B[39m\u001B[33m,;|\u001B[39m\u001B[33m\"\u001B[39m).delimiter\n",
      "\u001B[31mUnicodeDecodeError\u001B[39m: 'utf-8' codec can't decode byte 0xde in position 16: invalid continuation byte"
     ]
    }
   ],
   "execution_count": 71
  },
  {
   "metadata": {},
   "cell_type": "code",
   "outputs": [],
   "execution_count": null,
   "source": "",
   "id": "6fd6f080b80b88f8"
  }
 ],
 "metadata": {
  "kernelspec": {
   "display_name": "Python 3",
   "language": "python",
   "name": "python3"
  },
  "language_info": {
   "codemirror_mode": {
    "name": "ipython",
    "version": 2
   },
   "file_extension": ".py",
   "mimetype": "text/x-python",
   "name": "python",
   "nbconvert_exporter": "python",
   "pygments_lexer": "ipython2",
   "version": "2.7.6"
  }
 },
 "nbformat": 4,
 "nbformat_minor": 5
}
