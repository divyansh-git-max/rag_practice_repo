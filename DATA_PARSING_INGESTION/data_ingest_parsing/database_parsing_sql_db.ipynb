{
 "cells": [
  {
   "metadata": {
    "collapsed": true
   },
   "cell_type": "markdown",
   "source": "### SQL DB",
   "id": "bbdca6c8c61d727a"
  },
  {
   "metadata": {
    "ExecuteTime": {
     "end_time": "2025-09-10T06:56:37.497420Z",
     "start_time": "2025-09-10T06:56:37.492346Z"
    }
   },
   "cell_type": "code",
   "source": [
    "import sqlite3\n",
    "import pandas as pd\n",
    "import os\n",
    "from typing import List,Dict,Any\n",
    "from langchain_core.documents import Document"
   ],
   "id": "86a82395267ab8cc",
   "outputs": [],
   "execution_count": 21
  },
  {
   "metadata": {
    "ExecuteTime": {
     "end_time": "2025-09-10T06:38:17.437296Z",
     "start_time": "2025-09-10T06:38:17.432204Z"
    }
   },
   "cell_type": "code",
   "source": "os.makedirs('data/sql', exist_ok=True)",
   "id": "24a8447c091f79fc",
   "outputs": [],
   "execution_count": 2
  },
  {
   "metadata": {
    "ExecuteTime": {
     "end_time": "2025-09-10T06:38:17.454413Z",
     "start_time": "2025-09-10T06:38:17.449317Z"
    }
   },
   "cell_type": "code",
   "source": [
    "conn=sqlite3.connect('data/sql/database.db')\n",
    "cursor = conn.cursor()"
   ],
   "id": "ba1cd59c2cac5c94",
   "outputs": [],
   "execution_count": 3
  },
  {
   "metadata": {
    "ExecuteTime": {
     "end_time": "2025-09-10T06:38:24.615818Z",
     "start_time": "2025-09-10T06:38:24.598361Z"
    }
   },
   "cell_type": "code",
   "source": [
    "cursor.execute('''\n",
    "    CREATE TABLE IF NOT EXISTS employees (\n",
    "        ID INTEGER PRIMARY KEY AUTOINCREMENT,\n",
    "        NAME TEXT,\n",
    "        ROLE TEXT,\n",
    "        DEPARTMENT TEXT,\n",
    "        SALARY REAL)\n",
    "''')"
   ],
   "id": "1001053ca9116d60",
   "outputs": [
    {
     "data": {
      "text/plain": [
       "<sqlite3.Cursor at 0x153c80279c0>"
      ]
     },
     "execution_count": 4,
     "metadata": {},
     "output_type": "execute_result"
    }
   ],
   "execution_count": 4
  },
  {
   "metadata": {
    "ExecuteTime": {
     "end_time": "2025-09-10T06:38:25.743779Z",
     "start_time": "2025-09-10T06:38:25.730793Z"
    }
   },
   "cell_type": "code",
   "source": [
    "cursor.execute('''\n",
    "    CREATE TABLE IF NOT EXISTS PROJECT (\n",
    "        ID INTEGER PRIMARY KEY AUTOINCREMENT,\n",
    "        NAME TEXT,\n",
    "        STATUS TEXT,\n",
    "        BUDGET REAL,\n",
    "        LEAD_ID INTEGER\n",
    "    )\n",
    "''')"
   ],
   "id": "6bd72cb9b58e31ff",
   "outputs": [
    {
     "data": {
      "text/plain": [
       "<sqlite3.Cursor at 0x153c80279c0>"
      ]
     },
     "execution_count": 5,
     "metadata": {},
     "output_type": "execute_result"
    }
   ],
   "execution_count": 5
  },
  {
   "metadata": {
    "ExecuteTime": {
     "end_time": "2025-09-10T06:38:28.848036Z",
     "start_time": "2025-09-10T06:38:28.843041Z"
    }
   },
   "cell_type": "code",
   "source": [
    "employees = [\n",
    "    (1, 'John Doe', 'Senior Developer', 'Engineering', 95000),\n",
    "    (2, 'Jane Smith', 'Data Scientist', 'Analytics', 105000),\n",
    "    (3, 'Mike Johnson', 'Product Manager', 'Product', 110000),\n",
    "    (4, 'Sarah Williams', 'DevOps Engineer', 'Engineering', 98000)\n",
    "]\n",
    "\n",
    "projects = [\n",
    "    (1, 'RAG Implementation', 'Active', 150000, 1),\n",
    "    (2, 'Data Pipeline', 'Completed', 80000, 2),\n",
    "    (3, 'Customer Portal', 'Planning', 200000, 3),\n",
    "    (4, 'ML Platform', 'Active', 250000, 2)\n",
    "]"
   ],
   "id": "9a37943332a2dba",
   "outputs": [],
   "execution_count": 6
  },
  {
   "metadata": {
    "ExecuteTime": {
     "end_time": "2025-09-10T06:38:40.726071Z",
     "start_time": "2025-09-10T06:38:40.719892Z"
    }
   },
   "cell_type": "code",
   "source": [
    "cursor.executemany('INSERT OR REPLACE INTO EMPLOYEES VALUES (?,?,?,?,?)',employees)\n",
    "cursor.executemany('INSERT OR REPLACE INTO PROJECT VALUES (?,?,?,?,?)',projects)"
   ],
   "id": "ce756083aaf06548",
   "outputs": [
    {
     "data": {
      "text/plain": [
       "<sqlite3.Cursor at 0x153c80279c0>"
      ]
     },
     "execution_count": 8,
     "metadata": {},
     "output_type": "execute_result"
    }
   ],
   "execution_count": 8
  },
  {
   "metadata": {
    "ExecuteTime": {
     "end_time": "2025-09-10T06:40:43.553703Z",
     "start_time": "2025-09-10T06:40:43.547238Z"
    }
   },
   "cell_type": "code",
   "source": "cursor.execute('select * from employees')",
   "id": "63f194779c0f57cb",
   "outputs": [
    {
     "data": {
      "text/plain": [
       "<sqlite3.Cursor at 0x153c80279c0>"
      ]
     },
     "execution_count": 9,
     "metadata": {},
     "output_type": "execute_result"
    }
   ],
   "execution_count": 9
  },
  {
   "metadata": {
    "ExecuteTime": {
     "end_time": "2025-09-10T06:41:53.702589Z",
     "start_time": "2025-09-10T06:41:53.694436Z"
    }
   },
   "cell_type": "code",
   "source": [
    "conn.commit()\n",
    "conn.close()"
   ],
   "id": "4cd7e5c435bc2d0b",
   "outputs": [],
   "execution_count": 10
  },
  {
   "metadata": {
    "ExecuteTime": {
     "end_time": "2025-09-10T06:42:44.955261Z",
     "start_time": "2025-09-10T06:42:43.955096Z"
    }
   },
   "cell_type": "code",
   "source": [
    "from langchain_community.utilities import SQLDatabase\n",
    "from langchain_community.document_loaders import SQLDatabaseLoader"
   ],
   "id": "200e40251a71e79d",
   "outputs": [],
   "execution_count": 11
  },
  {
   "metadata": {
    "ExecuteTime": {
     "end_time": "2025-09-10T06:53:43.864686Z",
     "start_time": "2025-09-10T06:53:43.848428Z"
    }
   },
   "cell_type": "code",
   "source": [
    "### Method-1 SQL DATABASE UTILITIES\n",
    "db=SQLDatabase.from_uri('sqlite:///data/sql/database.db')\n",
    "print(db.get_table_info())"
   ],
   "id": "dff2ff76bebed785",
   "outputs": [
    {
     "name": "stdout",
     "output_type": "stream",
     "text": [
      "\n",
      "CREATE TABLE \"PROJECT\" (\n",
      "\t\"ID\" INTEGER, \n",
      "\t\"NAME\" TEXT, \n",
      "\t\"STATUS\" TEXT, \n",
      "\t\"BUDGET\" REAL, \n",
      "\t\"LEAD_ID\" INTEGER, \n",
      "\tPRIMARY KEY (\"ID\")\n",
      ")\n",
      "\n",
      "/*\n",
      "3 rows from PROJECT table:\n",
      "ID\tNAME\tSTATUS\tBUDGET\tLEAD_ID\n",
      "1\tRAG Implementation\tActive\t150000.0\t1\n",
      "2\tData Pipeline\tCompleted\t80000.0\t2\n",
      "3\tCustomer Portal\tPlanning\t200000.0\t3\n",
      "*/\n",
      "\n",
      "\n",
      "CREATE TABLE employees (\n",
      "\t\"ID\" INTEGER, \n",
      "\t\"NAME\" TEXT, \n",
      "\t\"ROLE\" TEXT, \n",
      "\t\"DEPARTMENT\" TEXT, \n",
      "\t\"SALARY\" REAL, \n",
      "\tPRIMARY KEY (\"ID\")\n",
      ")\n",
      "\n",
      "/*\n",
      "3 rows from employees table:\n",
      "ID\tNAME\tROLE\tDEPARTMENT\tSALARY\n",
      "1\tJohn Doe\tSenior Developer\tEngineering\t95000.0\n",
      "2\tJane Smith\tData Scientist\tAnalytics\t105000.0\n",
      "3\tMike Johnson\tProduct Manager\tProduct\t110000.0\n",
      "*/\n"
     ]
    }
   ],
   "execution_count": 17
  },
  {
   "metadata": {
    "ExecuteTime": {
     "end_time": "2025-09-10T06:53:47.752867Z",
     "start_time": "2025-09-10T06:53:47.749065Z"
    }
   },
   "cell_type": "code",
   "source": "print(db.get_usable_table_names())",
   "id": "2a0d39f7c0b097b7",
   "outputs": [
    {
     "name": "stdout",
     "output_type": "stream",
     "text": [
      "['PROJECT', 'employees']\n"
     ]
    }
   ],
   "execution_count": 18
  },
  {
   "metadata": {
    "ExecuteTime": {
     "end_time": "2025-09-10T10:28:24.588577Z",
     "start_time": "2025-09-10T10:28:24.576670Z"
    }
   },
   "cell_type": "code",
   "source": [
    "print('\\n Custom SQL Processing')\n",
    "\n",
    "def sql_to_document(db_path: str) -> List[Document]:\n",
    "    \"\"\"Convert a SQL database to a list of Documents\"\"\"\n",
    "    conn=sqlite3.connect(db_path)\n",
    "    cursor=conn.cursor()\n",
    "\n",
    "    documents=[]\n",
    "    cursor.execute(\"SELECT name from sqlite_master WHERE type='table'\")\n",
    "    tables=cursor.fetchall()\n",
    "    for table in tables:\n",
    "        table_name=table[0]\n",
    "        # get table name\n",
    "        cursor.execute(f\"PRAGMA table_info({table_name})\")\n",
    "        columns=cursor.fetchall()\n",
    "        columns_name = [col[1] for col in columns]\n",
    "\n",
    "        cursor.execute(f\"SELECT * FROM {table_name}\")\n",
    "        rows=cursor.fetchall()\n",
    "\n",
    "        table_content = f\"Table: {table_name}\"\n",
    "        table_content += f\"Columns: {' '.join(columns_name)}\"\n",
    "        table_content += f\"\\n Total records: {len(rows)} rows\"\n",
    "\n",
    "        table_content += \"Sample records: \\n\"\n",
    "        for row in rows[:5]:\n",
    "            record = dict(zip(columns_name,row))\n",
    "            table_content += f\"\\n{record}\"\n",
    "\n",
    "        doc=Document(\n",
    "            page_content=table_content,\n",
    "            metadata = {\n",
    "                'source':db_path,\n",
    "                'table_name':table_name,\n",
    "                'table_content':table_content,\n",
    "                'data_type':'sql_table'\n",
    "            }\n",
    "        )\n",
    "        documents.append(doc)\n",
    "\n",
    "    cursor.execute(\"\"\"\n",
    "        SELECT e.name, e.role, p.name as project_name, p.status\n",
    "        FROM employees e\n",
    "        JOIN project p ON e.id = p.lead_id\n",
    "    \"\"\")\n",
    "\n",
    "    relationship = cursor.fetchall()\n",
    "    rel_content = \"employees-project relationship\"\n",
    "    for rel in relationship:\n",
    "        rel_content+=f\"{rel[0]} -> {rel[1]} leads {rel[2]} - Status: {rel[3]}\"\n",
    "\n",
    "    rel_doc = Document(\n",
    "        page_content=rel_content,\n",
    "        metadata={\n",
    "            'source':db_path,\n",
    "            'data_type':'sql_relationship',\n",
    "            'query':'employees-project relationship'\n",
    "        }\n",
    "    )\n",
    "    documents.append(rel_doc)\n",
    "    conn.close()\n",
    "    return documents\n"
   ],
   "id": "a0107296a64d1200",
   "outputs": [
    {
     "name": "stdout",
     "output_type": "stream",
     "text": [
      "\n",
      " Custom SQL Processing\n"
     ]
    }
   ],
   "execution_count": 32
  },
  {
   "metadata": {
    "ExecuteTime": {
     "end_time": "2025-09-10T10:28:24.818070Z",
     "start_time": "2025-09-10T10:28:24.810756Z"
    }
   },
   "cell_type": "code",
   "source": "sql_to_document('data/sql/database.db')",
   "id": "60b6bc7d6cb0617e",
   "outputs": [
    {
     "data": {
      "text/plain": [
       "[Document(metadata={'source': 'data/sql/database.db', 'table_name': 'employees', 'table_content': \"Table: employeesColumns: ID NAME ROLE DEPARTMENT SALARY\\n Total records: 4 rowsSample records: \\n\\n{'ID': 1, 'NAME': 'John Doe', 'ROLE': 'Senior Developer', 'DEPARTMENT': 'Engineering', 'SALARY': 95000.0}\\n{'ID': 2, 'NAME': 'Jane Smith', 'ROLE': 'Data Scientist', 'DEPARTMENT': 'Analytics', 'SALARY': 105000.0}\\n{'ID': 3, 'NAME': 'Mike Johnson', 'ROLE': 'Product Manager', 'DEPARTMENT': 'Product', 'SALARY': 110000.0}\\n{'ID': 4, 'NAME': 'Sarah Williams', 'ROLE': 'DevOps Engineer', 'DEPARTMENT': 'Engineering', 'SALARY': 98000.0}\", 'data_type': 'sql_table'}, page_content=\"Table: employeesColumns: ID NAME ROLE DEPARTMENT SALARY\\n Total records: 4 rowsSample records: \\n\\n{'ID': 1, 'NAME': 'John Doe', 'ROLE': 'Senior Developer', 'DEPARTMENT': 'Engineering', 'SALARY': 95000.0}\\n{'ID': 2, 'NAME': 'Jane Smith', 'ROLE': 'Data Scientist', 'DEPARTMENT': 'Analytics', 'SALARY': 105000.0}\\n{'ID': 3, 'NAME': 'Mike Johnson', 'ROLE': 'Product Manager', 'DEPARTMENT': 'Product', 'SALARY': 110000.0}\\n{'ID': 4, 'NAME': 'Sarah Williams', 'ROLE': 'DevOps Engineer', 'DEPARTMENT': 'Engineering', 'SALARY': 98000.0}\"),\n",
       " Document(metadata={'source': 'data/sql/database.db', 'table_name': 'sqlite_sequence', 'table_content': \"Table: sqlite_sequenceColumns: name seq\\n Total records: 2 rowsSample records: \\n\\n{'name': 'employees', 'seq': 4}\\n{'name': 'PROJECT', 'seq': 4}\", 'data_type': 'sql_table'}, page_content=\"Table: sqlite_sequenceColumns: name seq\\n Total records: 2 rowsSample records: \\n\\n{'name': 'employees', 'seq': 4}\\n{'name': 'PROJECT', 'seq': 4}\"),\n",
       " Document(metadata={'source': 'data/sql/database.db', 'table_name': 'PROJECT', 'table_content': \"Table: PROJECTColumns: ID NAME STATUS BUDGET LEAD_ID\\n Total records: 4 rowsSample records: \\n\\n{'ID': 1, 'NAME': 'RAG Implementation', 'STATUS': 'Active', 'BUDGET': 150000.0, 'LEAD_ID': 1}\\n{'ID': 2, 'NAME': 'Data Pipeline', 'STATUS': 'Completed', 'BUDGET': 80000.0, 'LEAD_ID': 2}\\n{'ID': 3, 'NAME': 'Customer Portal', 'STATUS': 'Planning', 'BUDGET': 200000.0, 'LEAD_ID': 3}\\n{'ID': 4, 'NAME': 'ML Platform', 'STATUS': 'Active', 'BUDGET': 250000.0, 'LEAD_ID': 2}\", 'data_type': 'sql_table'}, page_content=\"Table: PROJECTColumns: ID NAME STATUS BUDGET LEAD_ID\\n Total records: 4 rowsSample records: \\n\\n{'ID': 1, 'NAME': 'RAG Implementation', 'STATUS': 'Active', 'BUDGET': 150000.0, 'LEAD_ID': 1}\\n{'ID': 2, 'NAME': 'Data Pipeline', 'STATUS': 'Completed', 'BUDGET': 80000.0, 'LEAD_ID': 2}\\n{'ID': 3, 'NAME': 'Customer Portal', 'STATUS': 'Planning', 'BUDGET': 200000.0, 'LEAD_ID': 3}\\n{'ID': 4, 'NAME': 'ML Platform', 'STATUS': 'Active', 'BUDGET': 250000.0, 'LEAD_ID': 2}\"),\n",
       " Document(metadata={'source': 'data/sql/database.db', 'data_type': 'sql_relationship', 'query': 'employees-project relationship'}, page_content='employees-project relationshipJohn Doe -> Senior Developer leads RAG Implementation - Status: ActiveJane Smith -> Data Scientist leads Data Pipeline - Status: CompletedMike Johnson -> Product Manager leads Customer Portal - Status: PlanningJane Smith -> Data Scientist leads ML Platform - Status: Active')]"
      ]
     },
     "execution_count": 33,
     "metadata": {},
     "output_type": "execute_result"
    }
   ],
   "execution_count": 33
  },
  {
   "metadata": {},
   "cell_type": "code",
   "outputs": [],
   "execution_count": null,
   "source": "",
   "id": "be2aedc99c7c21e0"
  }
 ],
 "metadata": {
  "kernelspec": {
   "display_name": "Python 3",
   "language": "python",
   "name": "python3"
  },
  "language_info": {
   "codemirror_mode": {
    "name": "ipython",
    "version": 2
   },
   "file_extension": ".py",
   "mimetype": "text/x-python",
   "name": "python",
   "nbconvert_exporter": "python",
   "pygments_lexer": "ipython2",
   "version": "2.7.6"
  }
 },
 "nbformat": 4,
 "nbformat_minor": 5
}
