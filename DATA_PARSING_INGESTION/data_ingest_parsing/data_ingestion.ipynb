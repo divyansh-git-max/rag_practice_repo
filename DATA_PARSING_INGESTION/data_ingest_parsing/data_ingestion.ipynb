{
 "cells": [
  {
   "cell_type": "code",
   "id": "initial_id",
   "metadata": {
    "collapsed": true,
    "ExecuteTime": {
     "end_time": "2025-09-08T11:36:20.983011Z",
     "start_time": "2025-09-08T11:36:20.914825Z"
    }
   },
   "source": [
    "import pandas as pd\n",
    "import os\n",
    "import time\n",
    "import langchain\n",
    "from typing import List,Dict,Any\n",
    "\n",
    "from langchain.schema import document\n",
    "from langchain_core.documents import Document\n",
    "from langchain.text_splitter import (RecursiveCharacterTextSplitter,CharacterTextSplitter,TokenTextSplitter)\n",
    "from sqlalchemy.testing.suite.test_reflection import metadata\n",
    "\n",
    "print(\"Setup completed\")\n"
   ],
   "outputs": [
    {
     "name": "stdout",
     "output_type": "stream",
     "text": [
      "Setup completed\n"
     ]
    }
   ],
   "execution_count": 8
  },
  {
   "metadata": {
    "ExecuteTime": {
     "end_time": "2025-09-08T11:43:09.776707Z",
     "start_time": "2025-09-08T11:43:09.771625Z"
    }
   },
   "cell_type": "code",
   "source": [
    "doc=Document(\n",
    "    page_content=\"THis is the main text content that will be embedded and searched!\",\n",
    "    metadata={\n",
    "        \"source\":\"Example.txt\",\n",
    "        \"author\":\"divyansh\",\n",
    "        \"page\":1,\n",
    "        \"date_created\":\"2025-01-01\",\n",
    "        \"custom_field\":\"any_val\"\n",
    "    }\n",
    ")\n",
    "print(\"Document Structure\")\n",
    "print(f\"metadata:{doc.metadata}\")\n",
    "print(f\"page content:{doc.page_content}\")"
   ],
   "id": "1d245222b26ea243",
   "outputs": [
    {
     "name": "stdout",
     "output_type": "stream",
     "text": [
      "Document Structure\n",
      "metadata:{'source': 'Example.txt', 'author': 'divyansh', 'page': 1, 'date_created': '2025-01-01', 'custom_field': 'any_val'}\n",
      "page content:THis is the main text content that will be embedded and searched!\n"
     ]
    }
   ],
   "execution_count": 13
  },
  {
   "metadata": {
    "ExecuteTime": {
     "end_time": "2025-09-08T11:48:30.565404Z",
     "start_time": "2025-09-08T11:48:30.560402Z"
    }
   },
   "cell_type": "code",
   "source": "os.makedirs(\"data/text_files\",exist_ok=True)",
   "id": "9aba2206c7add076",
   "outputs": [],
   "execution_count": 16
  },
  {
   "metadata": {
    "ExecuteTime": {
     "end_time": "2025-09-08T12:09:52.671312Z",
     "start_time": "2025-09-08T12:09:52.664794Z"
    }
   },
   "cell_type": "code",
   "source": [
    "sample_texts={\n",
    "    \"data/text_files/python_intro.txt\":\"\"\"\n",
    "        python programming language is used for building ai applications\n",
    "    \"\"\"\n",
    "}\n",
    "\n",
    "for filepath,contents in sample_texts.items():\n",
    "    with open(filepath,\"w\",encoding='utf-8') as f:\n",
    "        f.write(contents)\n",
    "\n",
    "print(\"sample texts:\")\n",
    "print(sample_texts)"
   ],
   "id": "f03bee863e941fd0",
   "outputs": [
    {
     "name": "stdout",
     "output_type": "stream",
     "text": [
      "sample texts:\n",
      "{'data/text_files/python_intro.txt': '\\n        python programming language is used for building ai applications\\n    '}\n"
     ]
    }
   ],
   "execution_count": 18
  },
  {
   "metadata": {},
   "cell_type": "markdown",
   "source": "### Text-Loader",
   "id": "7c911a1acc836c8c"
  },
  {
   "metadata": {
    "ExecuteTime": {
     "end_time": "2025-09-08T12:12:40.119052Z",
     "start_time": "2025-09-08T12:12:40.089370Z"
    }
   },
   "cell_type": "code",
   "source": [
    "from langchain_community.document_loaders import TextLoader\n",
    "# loading a single text file\n",
    "loader=TextLoader(file_path='data/text_files/python_intro.txt',encoding='utf-8')"
   ],
   "id": "98c317a6635eff01",
   "outputs": [],
   "execution_count": 19
  },
  {
   "metadata": {
    "ExecuteTime": {
     "end_time": "2025-09-08T12:13:13.121573Z",
     "start_time": "2025-09-08T12:13:13.117021Z"
    }
   },
   "cell_type": "code",
   "source": "documents = loader.load()",
   "id": "5bc12cad2a43db74",
   "outputs": [],
   "execution_count": 23
  },
  {
   "metadata": {
    "ExecuteTime": {
     "end_time": "2025-09-08T12:16:25.583091Z",
     "start_time": "2025-09-08T12:16:25.578527Z"
    }
   },
   "cell_type": "code",
   "source": [
    "print(documents[0].page_content[1:])\n",
    "print(documents[0].metadata)\n",
    "print(len(documents))"
   ],
   "id": "3b453c12fb4677ec",
   "outputs": [
    {
     "name": "stdout",
     "output_type": "stream",
     "text": [
      "        python programming language is used for building ai applications\n",
      "    \n",
      "{'source': 'data/text_files/python_intro.txt'}\n",
      "1\n"
     ]
    }
   ],
   "execution_count": 38
  },
  {
   "metadata": {
    "ExecuteTime": {
     "end_time": "2025-09-08T12:31:12.035191Z",
     "start_time": "2025-09-08T12:31:12.024004Z"
    }
   },
   "cell_type": "code",
   "source": [
    "from langchain_community.document_loaders import DirectoryLoader\n",
    "\n",
    "dir_loader=DirectoryLoader(\n",
    "    \"data/text_files\",\n",
    "    glob=\"**/*.txt\", # regex to match files\n",
    "    loader_cls=TextLoader,\n",
    "    loader_kwargs={\"encoding\":\"utf-8\"},\n",
    "    show_progress=True\n",
    ")\n",
    "\n",
    "documents=dir_loader.load()"
   ],
   "id": "9a03ebb28f00139b",
   "outputs": [
    {
     "name": "stderr",
     "output_type": "stream",
     "text": [
      "100%|██████████| 2/2 [00:00<00:00, 1001.15it/s]\n"
     ]
    }
   ],
   "execution_count": 47
  },
  {
   "metadata": {
    "ExecuteTime": {
     "end_time": "2025-09-08T12:31:24.495395Z",
     "start_time": "2025-09-08T12:31:24.488932Z"
    }
   },
   "cell_type": "code",
   "source": "documents",
   "id": "5c62db7866487e75",
   "outputs": [
    {
     "data": {
      "text/plain": [
       "[Document(metadata={'source': 'data\\\\text_files\\\\machine_learning.txt'}, page_content='Machine Learning Basics\\n\\nMachine learning is a subset of artificial intelligence that enables systems to learn and improve\\nfrom experience without being explicitly programmed. It focuses on developing computer programs\\nthat can access data and use it to learn for themselves.\\n\\nTypes of Machine Learning:\\n1. Supervised Learning: Learning with labeled data\\n2. Unsupervised Learning: Finding patterns in unlabeled data\\n3. Reinforcement Learning: Learning through rewards and penalties\\n\\nApplications include image recognition, speech processing, and recommendation systems\\n'),\n",
       " Document(metadata={'source': 'data\\\\text_files\\\\python_intro.txt'}, page_content='Python Programming Introduction\\n\\nPython is a high-level, interpreted programming language known for its simplicity and readability.\\nCreated by Guido van Rossum and first released in 1991, Python has become one of the most popular\\nprogramming languages in the world.\\n\\nKey Features:\\n- Easy to learn and use\\n- Extensive standard library\\n- Cross-platform compatibility\\n- Strong community support\\n\\nPython is widely used in web development, data science, artificial intelligence, and automation.')]"
      ]
     },
     "execution_count": 49,
     "metadata": {},
     "output_type": "execute_result"
    }
   ],
   "execution_count": 49
  },
  {
   "metadata": {},
   "cell_type": "markdown",
   "source": "## Text-splitter Strategies",
   "id": "b8c87ffa1022f42c"
  },
  {
   "metadata": {
    "ExecuteTime": {
     "end_time": "2025-09-08T12:36:30.786162Z",
     "start_time": "2025-09-08T12:36:30.780569Z"
    }
   },
   "cell_type": "code",
   "source": [
    "from langchain.text_splitter import (RecursiveCharacterTextSplitter,CharacterTextSplitter,TokenTextSplitter)\n",
    "\n",
    "text=documents[0].page_content"
   ],
   "id": "c82617a6c87710cc",
   "outputs": [],
   "execution_count": 50
  },
  {
   "metadata": {
    "ExecuteTime": {
     "end_time": "2025-09-08T12:36:32.339105Z",
     "start_time": "2025-09-08T12:36:32.333439Z"
    }
   },
   "cell_type": "code",
   "source": "text",
   "id": "681bca75bc92401d",
   "outputs": [
    {
     "data": {
      "text/plain": [
       "'Machine Learning Basics\\n\\nMachine learning is a subset of artificial intelligence that enables systems to learn and improve\\nfrom experience without being explicitly programmed. It focuses on developing computer programs\\nthat can access data and use it to learn for themselves.\\n\\nTypes of Machine Learning:\\n1. Supervised Learning: Learning with labeled data\\n2. Unsupervised Learning: Finding patterns in unlabeled data\\n3. Reinforcement Learning: Learning through rewards and penalties\\n\\nApplications include image recognition, speech processing, and recommendation systems\\n'"
      ]
     },
     "execution_count": 51,
     "metadata": {},
     "output_type": "execute_result"
    }
   ],
   "execution_count": 51
  },
  {
   "metadata": {},
   "cell_type": "markdown",
   "source": "#### char text splitter",
   "id": "fbcd9fc62608e9de"
  },
  {
   "metadata": {
    "ExecuteTime": {
     "end_time": "2025-09-08T12:37:50.968094Z",
     "start_time": "2025-09-08T12:37:50.964905Z"
    }
   },
   "cell_type": "code",
   "source": [
    "char_splitter = CharacterTextSplitter(\n",
    "    separator='\\n',\n",
    "    chunk_size=100,\n",
    "    chunk_overlap=20,\n",
    "    length_function=lambda x: len(x)\n",
    ")"
   ],
   "id": "c518fa5a9218a8de",
   "outputs": [],
   "execution_count": 53
  },
  {
   "metadata": {
    "ExecuteTime": {
     "end_time": "2025-09-08T12:40:33.044583Z",
     "start_time": "2025-09-08T12:40:33.038920Z"
    }
   },
   "cell_type": "code",
   "source": [
    "char_chunks=char_splitter.split_text(text)\n",
    "print(len(char_chunks))"
   ],
   "id": "b6a50c6d8bc92b9b",
   "outputs": [
    {
     "name": "stdout",
     "output_type": "stream",
     "text": [
      "8\n"
     ]
    }
   ],
   "execution_count": 54
  },
  {
   "metadata": {
    "ExecuteTime": {
     "end_time": "2025-09-08T12:42:48.855083Z",
     "start_time": "2025-09-08T12:42:48.849159Z"
    }
   },
   "cell_type": "code",
   "source": "char_chunks",
   "id": "cb23ad4d7c944e28",
   "outputs": [
    {
     "data": {
      "text/plain": [
       "['Machine Learning Basics',\n",
       " 'Machine learning is a subset of artificial intelligence that enables systems to learn and improve',\n",
       " 'from experience without being explicitly programmed. It focuses on developing computer programs',\n",
       " 'that can access data and use it to learn for themselves.\\nTypes of Machine Learning:',\n",
       " '1. Supervised Learning: Learning with labeled data',\n",
       " '2. Unsupervised Learning: Finding patterns in unlabeled data',\n",
       " '3. Reinforcement Learning: Learning through rewards and penalties',\n",
       " 'Applications include image recognition, speech processing, and recommendation systems']"
      ]
     },
     "execution_count": 60,
     "metadata": {},
     "output_type": "execute_result"
    }
   ],
   "execution_count": 60
  },
  {
   "metadata": {},
   "cell_type": "markdown",
   "source": "### Recursive Character text-splitter",
   "id": "5d8952756d1e03e2"
  },
  {
   "metadata": {
    "ExecuteTime": {
     "end_time": "2025-09-08T12:49:58.172994Z",
     "start_time": "2025-09-08T12:49:58.167978Z"
    }
   },
   "cell_type": "code",
   "source": [
    "recursive_text_splitter = RecursiveCharacterTextSplitter(\n",
    "    separators=['\\n\\n','\\n','',' '],\n",
    "    chunk_size=200,\n",
    "    chunk_overlap=20,\n",
    "    length_function=len\n",
    "\n",
    ")"
   ],
   "id": "366bd275e5ccbec5",
   "outputs": [],
   "execution_count": 69
  },
  {
   "metadata": {
    "ExecuteTime": {
     "end_time": "2025-09-08T12:49:58.529707Z",
     "start_time": "2025-09-08T12:49:58.524560Z"
    }
   },
   "cell_type": "code",
   "source": "recursive_text = recursive_text_splitter.split_text(text)",
   "id": "fefa74eaa6d3ae15",
   "outputs": [],
   "execution_count": 70
  },
  {
   "metadata": {
    "ExecuteTime": {
     "end_time": "2025-09-08T12:49:58.953374Z",
     "start_time": "2025-09-08T12:49:58.945827Z"
    }
   },
   "cell_type": "code",
   "source": "recursive_text",
   "id": "2d92401aeca725d7",
   "outputs": [
    {
     "data": {
      "text/plain": [
       "['Machine Learning Basics',\n",
       " 'Machine learning is a subset of artificial intelligence that enables systems to learn and improve\\nfrom experience without being explicitly programmed. It focuses on developing computer programs',\n",
       " 'that can access data and use it to learn for themselves.',\n",
       " 'Types of Machine Learning:\\n1. Supervised Learning: Learning with labeled data\\n2. Unsupervised Learning: Finding patterns in unlabeled data',\n",
       " '3. Reinforcement Learning: Learning through rewards and penalties',\n",
       " 'Applications include image recognition, speech processing, and recommendation systems']"
      ]
     },
     "execution_count": 71,
     "metadata": {},
     "output_type": "execute_result"
    }
   ],
   "execution_count": 71
  },
  {
   "metadata": {},
   "cell_type": "code",
   "outputs": [],
   "execution_count": null,
   "source": "",
   "id": "e8f8cf1acc7c150f"
  }
 ],
 "metadata": {
  "kernelspec": {
   "display_name": "Python 3",
   "language": "python",
   "name": "python3"
  },
  "language_info": {
   "codemirror_mode": {
    "name": "ipython",
    "version": 2
   },
   "file_extension": ".py",
   "mimetype": "text/x-python",
   "name": "python",
   "nbconvert_exporter": "python",
   "pygments_lexer": "ipython2",
   "version": "2.7.6"
  }
 },
 "nbformat": 4,
 "nbformat_minor": 5
}
