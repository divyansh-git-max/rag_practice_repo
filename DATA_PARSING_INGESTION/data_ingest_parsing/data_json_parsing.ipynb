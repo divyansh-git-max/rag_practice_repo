{
 "cells": [
  {
   "cell_type": "code",
   "id": "initial_id",
   "metadata": {
    "collapsed": true,
    "ExecuteTime": {
     "end_time": "2025-09-09T12:44:46.100223Z",
     "start_time": "2025-09-09T12:44:46.095037Z"
    }
   },
   "source": [
    "import json\n",
    "import os\n",
    "from typing import List,Dict,Any\n",
    "from langchain_core.documents import Document"
   ],
   "outputs": [],
   "execution_count": 24
  },
  {
   "metadata": {
    "ExecuteTime": {
     "end_time": "2025-09-09T12:24:22.755481Z",
     "start_time": "2025-09-09T12:24:22.751556Z"
    }
   },
   "cell_type": "code",
   "source": "os.makedirs('data/json',exist_ok=True)",
   "id": "27295510a4252660",
   "outputs": [],
   "execution_count": 5
  },
  {
   "metadata": {
    "ExecuteTime": {
     "end_time": "2025-09-09T12:24:23.652779Z",
     "start_time": "2025-09-09T12:24:23.645773Z"
    }
   },
   "cell_type": "code",
   "source": [
    "json_data = {\n",
    "  \"company\": \"TechCorp\",\n",
    "  \"employees\": [\n",
    "    {\n",
    "      \"id\": 1,\n",
    "      \"name\": \"John Doe\",\n",
    "      \"role\": \"Software Engineer\",\n",
    "      \"skills\": [\n",
    "        \"Python\",\n",
    "        \"JavaScript\",\n",
    "        \"React\"\n",
    "      ],\n",
    "      \"projects\": [\n",
    "        {\n",
    "          \"name\": \"RAG System\",\n",
    "          \"status\": \"In Progress\"\n",
    "        },\n",
    "        {\n",
    "          \"name\": \"Data Pipeline\",\n",
    "          \"status\": \"Completed\"\n",
    "        }\n",
    "      ]\n",
    "    },\n",
    "    {\n",
    "      \"id\": 2,\n",
    "      \"name\": \"Jane Smith\",\n",
    "      \"role\": \"Data Scientist\",\n",
    "      \"skills\": [\n",
    "        \"Python\",\n",
    "        \"Machine Learning\",\n",
    "        \"SQL\"\n",
    "      ],\n",
    "      \"projects\": [\n",
    "        {\n",
    "          \"name\": \"ML Model\",\n",
    "          \"status\": \"In Progress\"\n",
    "        },\n",
    "        {\n",
    "          \"name\": \"Analytics Dashboard\",\n",
    "          \"status\": \"Planning\"\n",
    "        }\n",
    "      ]\n",
    "    }\n",
    "  ],\n",
    "  \"departments\": {\n",
    "    \"engineering\": {\n",
    "      \"head\": \"Mike Johnson\",\n",
    "      \"budget\": 1000000,\n",
    "      \"team_size\": 25\n",
    "    },\n",
    "    \"data_science\": {\n",
    "      \"head\": \"Sarah Williams\",\n",
    "      \"budget\": 750000,\n",
    "      \"team_size\": 15\n",
    "    }\n",
    "  }\n",
    "}"
   ],
   "id": "7ac0dac30dcc5acf",
   "outputs": [],
   "execution_count": 6
  },
  {
   "metadata": {
    "ExecuteTime": {
     "end_time": "2025-09-09T12:24:24.730403Z",
     "start_time": "2025-09-09T12:24:24.726339Z"
    }
   },
   "cell_type": "code",
   "source": [
    "with open('data/json/data.json','w') as f:\n",
    "  json.dump(json_data,f,indent=2)"
   ],
   "id": "9543822be50fa0c7",
   "outputs": [],
   "execution_count": 7
  },
  {
   "metadata": {
    "ExecuteTime": {
     "end_time": "2025-09-09T12:27:51.224099Z",
     "start_time": "2025-09-09T12:27:51.217846Z"
    }
   },
   "cell_type": "code",
   "source": [
    "jsonl_data = [\n",
    "    {\"timestamp\": \"2024-01-01\", \"event\": \"user_login\", \"user_id\": 123},\n",
    "    {\"timestamp\": \"2024-01-01\", \"event\": \"page_view\", \"user_id\": 123, \"page\": \"/home\"},\n",
    "    {\"timestamp\": \"2024-01-01\", \"event\": \"purchase\", \"user_id\": 123, \"amount\": 99.99}\n",
    "]\n",
    "\n",
    "with open('data/json/events.jsonl','w') as f:\n",
    "    for data in jsonl_data:\n",
    "        f.write(json.dumps(data))\n",
    "        f.write('\\n')"
   ],
   "id": "ce295c7ba256f3b3",
   "outputs": [],
   "execution_count": 8
  },
  {
   "metadata": {
    "ExecuteTime": {
     "end_time": "2025-09-09T12:41:40.986805Z",
     "start_time": "2025-09-09T12:41:40.975577Z"
    }
   },
   "cell_type": "code",
   "source": [
    "from langchain_community.document_loaders import JSONLoader\n",
    "# method-1\n",
    "employee_loader=JSONLoader(\n",
    "    file_path='data/json/data.json',\n",
    "    jq_schema='.employees[]',\n",
    "    text_content=False\n",
    ")\n",
    "employee_docs = employee_loader.load()\n",
    "\n",
    "for i in range(len(employee_docs)):\n",
    "    print(employee_docs[i].page_content)"
   ],
   "id": "fb10216064a856f2",
   "outputs": [
    {
     "name": "stdout",
     "output_type": "stream",
     "text": [
      "{\"id\": 1, \"name\": \"John Doe\", \"role\": \"Software Engineer\", \"skills\": [\"Python\", \"JavaScript\", \"React\"], \"projects\": [{\"name\": \"RAG System\", \"status\": \"In Progress\"}, {\"name\": \"Data Pipeline\", \"status\": \"Completed\"}]}\n",
      "{\"id\": 2, \"name\": \"Jane Smith\", \"role\": \"Data Scientist\", \"skills\": [\"Python\", \"Machine Learning\", \"SQL\"], \"projects\": [{\"name\": \"ML Model\", \"status\": \"In Progress\"}, {\"name\": \"Analytics Dashboard\", \"status\": \"Planning\"}]}\n"
     ]
    }
   ],
   "execution_count": 20
  },
  {
   "metadata": {
    "ExecuteTime": {
     "end_time": "2025-09-09T13:14:46.624024Z",
     "start_time": "2025-09-09T13:14:46.617782Z"
    }
   },
   "cell_type": "code",
   "source": [
    "def process_json_intelligently(file_path:str):\n",
    "    documents=[]\n",
    "    with open(file_path,'r') as file:\n",
    "        json_data_format=json.load(file)\n",
    "\n",
    "    for emp in json_data_format.get('employees',[]):\n",
    "        content = f\"\"\"Employee Profile:\n",
    "            Name: {emp['name']}\n",
    "            Role: {emp['role']}\n",
    "            Skills: ({' '.join(emp['skills'])}\n",
    "            Projects: \"\"\"\n",
    "        for project in json_data_format.get('projects',[]):\n",
    "            content += f\"\\n Project: {project['name']}(Status: {project['status']})\"\n",
    "            \"\"\"\n",
    "        \"\"\"\n",
    "        doc = Document(\n",
    "            page_content=content,\n",
    "            metadata={\n",
    "                'source':file_path,\n",
    "                'format':'json',\n",
    "                'data_type':'employee_profile',\n",
    "                'employee':emp['id'],\n",
    "                'name':emp['name'],\n",
    "                'role':emp['role']\n",
    "            }\n",
    "        )\n",
    "        documents.append(doc)\n",
    "    return documents\n"
   ],
   "id": "de6048e0f0d56c5b",
   "outputs": [],
   "execution_count": 37
  },
  {
   "metadata": {
    "ExecuteTime": {
     "end_time": "2025-09-09T13:15:11.179554Z",
     "start_time": "2025-09-09T13:15:11.173207Z"
    }
   },
   "cell_type": "code",
   "source": "print(process_json_intelligently(file_path='data/json/data.json'))",
   "id": "21c237fef831a28a",
   "outputs": [
    {
     "name": "stdout",
     "output_type": "stream",
     "text": [
      "[Document(metadata={'source': 'data/json/data.json', 'format': 'json', 'data_type': 'employee_profile', 'employee': 1, 'name': 'John Doe', 'role': 'Software Engineer'}, page_content='Employee Profile:\\n            Name: John Doe\\n            Role: Software Engineer\\n            Skills: (Python JavaScript React\\n            Projects: '), Document(metadata={'source': 'data/json/data.json', 'format': 'json', 'data_type': 'employee_profile', 'employee': 2, 'name': 'Jane Smith', 'role': 'Data Scientist'}, page_content='Employee Profile:\\n            Name: Jane Smith\\n            Role: Data Scientist\\n            Skills: (Python Machine Learning SQL\\n            Projects: ')]\n"
     ]
    }
   ],
   "execution_count": 39
  },
  {
   "metadata": {},
   "cell_type": "code",
   "outputs": [],
   "execution_count": null,
   "source": "",
   "id": "e5ff4960d04f5aef"
  }
 ],
 "metadata": {
  "kernelspec": {
   "display_name": "Python 3",
   "language": "python",
   "name": "python3"
  },
  "language_info": {
   "codemirror_mode": {
    "name": "ipython",
    "version": 2
   },
   "file_extension": ".py",
   "mimetype": "text/x-python",
   "name": "python",
   "nbconvert_exporter": "python",
   "pygments_lexer": "ipython2",
   "version": "2.7.6"
  }
 },
 "nbformat": 4,
 "nbformat_minor": 5
}
