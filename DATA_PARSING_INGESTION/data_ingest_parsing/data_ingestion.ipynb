{
 "cells": [
  {
   "cell_type": "code",
   "id": "initial_id",
   "metadata": {
    "collapsed": true,
    "ExecuteTime": {
     "end_time": "2025-09-08T11:36:20.983011Z",
     "start_time": "2025-09-08T11:36:20.914825Z"
    }
   },
   "source": [
    "import pandas as pd\n",
    "import os\n",
    "import time\n",
    "import langchain\n",
    "from typing import List,Dict,Any\n",
    "\n",
    "from langchain.schema import document\n",
    "from langchain_core.documents import Document\n",
    "from langchain.text_splitter import (RecursiveCharacterTextSplitter,CharacterTextSplitter,TokenTextSplitter)\n",
    "from sqlalchemy.testing.suite.test_reflection import metadata\n",
    "\n",
    "print(\"Setup completed\")\n"
   ],
   "outputs": [
    {
     "name": "stdout",
     "output_type": "stream",
     "text": [
      "Setup completed\n"
     ]
    }
   ],
   "execution_count": 8
  },
  {
   "metadata": {
    "ExecuteTime": {
     "end_time": "2025-09-08T11:43:09.776707Z",
     "start_time": "2025-09-08T11:43:09.771625Z"
    }
   },
   "cell_type": "code",
   "source": [
    "doc=Document(\n",
    "    page_content=\"THis is the main text content that will be embedded and searched!\",\n",
    "    metadata={\n",
    "        \"source\":\"Example.txt\",\n",
    "        \"author\":\"divyansh\",\n",
    "        \"page\":1,\n",
    "        \"date_created\":\"2025-01-01\",\n",
    "        \"custom_field\":\"any_val\"\n",
    "    }\n",
    ")\n",
    "print(\"Document Structure\")\n",
    "print(f\"metadata:{doc.metadata}\")\n",
    "print(f\"page content:{doc.page_content}\")"
   ],
   "id": "1d245222b26ea243",
   "outputs": [
    {
     "name": "stdout",
     "output_type": "stream",
     "text": [
      "Document Structure\n",
      "metadata:{'source': 'Example.txt', 'author': 'divyansh', 'page': 1, 'date_created': '2025-01-01', 'custom_field': 'any_val'}\n",
      "page content:THis is the main text content that will be embedded and searched!\n"
     ]
    }
   ],
   "execution_count": 13
  },
  {
   "metadata": {
    "ExecuteTime": {
     "end_time": "2025-09-08T11:48:30.565404Z",
     "start_time": "2025-09-08T11:48:30.560402Z"
    }
   },
   "cell_type": "code",
   "source": "os.makedirs(\"data/text_files\",exist_ok=True)",
   "id": "9aba2206c7add076",
   "outputs": [],
   "execution_count": 16
  },
  {
   "metadata": {},
   "cell_type": "code",
   "outputs": [],
   "execution_count": null,
   "source": [
    "sample_texts={\n",
    "    \"data/text_files/python_intro.txt\":\"\"\"\n",
    "        python programming language is used for building ai applications\n",
    "    \"\"\"\n",
    "}\n",
    "\n",
    "for filepath,contents in sample_texts.items():\n",
    "    with open(filepath,\"w\") as f:\n",
    "        f.write(contents)"
   ],
   "id": "f03bee863e941fd0"
  }
 ],
 "metadata": {
  "kernelspec": {
   "display_name": "Python 3",
   "language": "python",
   "name": "python3"
  },
  "language_info": {
   "codemirror_mode": {
    "name": "ipython",
    "version": 2
   },
   "file_extension": ".py",
   "mimetype": "text/x-python",
   "name": "python",
   "nbconvert_exporter": "python",
   "pygments_lexer": "ipython2",
   "version": "2.7.6"
  }
 },
 "nbformat": 4,
 "nbformat_minor": 5
}
