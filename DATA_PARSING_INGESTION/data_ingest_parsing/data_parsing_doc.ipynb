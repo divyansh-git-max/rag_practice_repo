{
 "cells": [
  {
   "cell_type": "code",
   "id": "initial_id",
   "metadata": {
    "collapsed": true,
    "ExecuteTime": {
     "end_time": "2025-09-09T07:39:49.028493Z",
     "start_time": "2025-09-09T07:39:48.757690Z"
    }
   },
   "source": [
    "from docx import Document as docxdoc\n",
    "import os\n",
    "from langchain_community.document_loaders import Docx2txtLoader, UnstructuredWordDocumentLoader\n",
    "from langchain_community.tools.playwright.utils import run_async"
   ],
   "outputs": [],
   "execution_count": 2
  },
  {
   "metadata": {},
   "cell_type": "markdown",
   "source": "### Doc2txtLoader",
   "id": "cc51d5f6d001c7bb"
  },
  {
   "metadata": {
    "ExecuteTime": {
     "end_time": "2025-09-09T07:43:59.130141Z",
     "start_time": "2025-09-09T07:43:59.121192Z"
    }
   },
   "cell_type": "code",
   "source": [
    "runs=True\n",
    "while runs:\n",
    "    try:\n",
    "        docx_loader=Docx2txtLoader(\"data/doc/proposal.docx\")\n",
    "        docs=docx_loader.load()\n",
    "        print(len(docs))\n",
    "        print(docs[0].metadata)\n",
    "        print(docs[0].page_content)\n",
    "        runs=False\n",
    "    except Exception as ex:\n",
    "        print(ex)\n",
    "        runs=False\n",
    "        break"
   ],
   "id": "74a9db736bb47c61",
   "outputs": [
    {
     "name": "stdout",
     "output_type": "stream",
     "text": [
      "1\n",
      "{'source': 'data/doc/proposal.docx'}\n",
      "Project Proposal: RAG Implementation\n",
      "\n",
      "Executive Summary\n",
      "\n",
      "This proposal outlines the implementation of a Retrieval-Augmented Generation system for our organization.\n",
      "\n",
      "Objectives\n",
      "\n",
      "Key objectives include:\n",
      "\n",
      "• Improve information retrieval accuracy\n",
      "\n",
      "• Reduce response time for customer queries\n",
      "\n",
      "• Integrate with existing knowledge base\n",
      "\n",
      "Budget and Timeline\n",
      "\n",
      "Budget: $50,000\n",
      "\n",
      "Timeline: 3 months\n",
      "\n",
      "Team: 4 developers, 1 project manager\n",
      "\n",
      "Technical Requirements\n",
      "\n",
      "Required technologies:\n",
      "\n",
      "- Python 3.8+\n",
      "\n",
      "- OpenAI API access\n",
      "\n",
      "- Vector database (ChromaDB)\n",
      "\n",
      "- 16GB RAM minimum\n",
      "\n",
      "Project Phases\n",
      "\n",
      "Phase\n",
      "\n",
      "Duration\n",
      "\n",
      "Deliverables\n",
      "\n",
      "Research\n",
      "\n",
      "2 weeks\n",
      "\n",
      "Technology evaluation report\n",
      "\n",
      "Development\n",
      "\n",
      "8 weeks\n",
      "\n",
      "Working RAG prototype\n",
      "\n",
      "Testing\n",
      "\n",
      "2 weeks\n",
      "\n",
      "Performance benchmarks\n"
     ]
    }
   ],
   "execution_count": 5
  },
  {
   "metadata": {
    "ExecuteTime": {
     "end_time": "2025-09-09T07:54:13.922492Z",
     "start_time": "2025-09-09T07:54:13.747362Z"
    }
   },
   "cell_type": "code",
   "source": [
    "runs=True\n",
    "while runs:\n",
    "    try:\n",
    "        docx_loader=UnstructuredWordDocumentLoader(\"data/doc/proposal.docx\",mode='elements')\n",
    "        docs=docx_loader.load()\n",
    "        print(len(docs))\n",
    "        print(docs[0].metadata)\n",
    "        print(docs[0].page_content)\n",
    "        for i, doc in enumerate(docs[:3]):\n",
    "            print(i+1)\n",
    "            print(doc.metadata.get('category','unknown'))\n",
    "            print(doc.page_content[:])\n",
    "        runs=False\n",
    "    except Exception as ex:\n",
    "        print(ex)\n",
    "        runs=False\n",
    "        break"
   ],
   "id": "8e188cdd9fe5e0b3",
   "outputs": [
    {
     "name": "stdout",
     "output_type": "stream",
     "text": [
      "20\n",
      "{'source': 'data/doc/proposal.docx', 'category_depth': 0, 'file_directory': 'data/doc', 'filename': 'proposal.docx', 'last_modified': '2025-09-09T13:03:37', 'languages': ['eng'], 'filetype': 'application/vnd.openxmlformats-officedocument.wordprocessingml.document', 'category': 'Title', 'element_id': 'bb0410bfd160ef866f8d4357b0949db2'}\n",
      "Project Proposal: RAG Implementation\n",
      "1\n",
      "Title\n",
      "Project Proposal: RAG Implementation\n",
      "2\n",
      "Title\n",
      "Executive Summary\n",
      "3\n",
      "NarrativeText\n",
      "This proposal outlines the implementation of a Retrieval-Augmented Generation system for our organization.\n"
     ]
    }
   ],
   "execution_count": 16
  },
  {
   "metadata": {},
   "cell_type": "code",
   "outputs": [],
   "execution_count": null,
   "source": "",
   "id": "fb2dae0877254c5"
  }
 ],
 "metadata": {
  "kernelspec": {
   "display_name": "Python 3",
   "language": "python",
   "name": "python3"
  },
  "language_info": {
   "codemirror_mode": {
    "name": "ipython",
    "version": 2
   },
   "file_extension": ".py",
   "mimetype": "text/x-python",
   "name": "python",
   "nbconvert_exporter": "python",
   "pygments_lexer": "ipython2",
   "version": "2.7.6"
  }
 },
 "nbformat": 4,
 "nbformat_minor": 5
}
